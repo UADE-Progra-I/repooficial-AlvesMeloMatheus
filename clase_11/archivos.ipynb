{
 "cells": [
  {
   "cell_type": "code",
   "execution_count": 39,
   "id": "b15f59eb",
   "metadata": {},
   "outputs": [
    {
     "name": "stdout",
     "output_type": "stream",
     "text": [
      "Estoy en: c:\\Users\\JPy\\Documents\\UADE - Programacion I\\Codigos de clase\\clase_11\n"
     ]
    }
   ],
   "source": [
    "# Veamos la ruta en donde estoy parado\n",
    "import os\n",
    "\n",
    "ruta_actual = os.getcwd()\n",
    "print(\"Estoy en:\", ruta_actual)"
   ]
  },
  {
   "cell_type": "markdown",
   "id": "ba04efe4",
   "metadata": {},
   "source": [
    "# Apertura de archivos"
   ]
  },
  {
   "cell_type": "markdown",
   "id": "bcac9ef2",
   "metadata": {},
   "source": [
    "Sintáxis para la apertura de archivos:\n",
    "<BR>\n",
    "<BR>\n",
    "`variable = open(file, mode)`\n",
    "<BR>\n",
    "* `variable`: nombre de la variable que contendrá la referencia al archivo de texto.\n",
    "* `open`: función que retorna un objeto de tipo Archivo.\n",
    "* `file`: indica el nombre del archivo de texto, puede contener la ruta donde se encuentra. Cuidar la secuencia de escape por el uso de `\\`.\n",
    "* `mode`: indica el modo de apertura del archivo, por default es modo lectura de un archivo de texto.\n"
   ]
  },
  {
   "cell_type": "markdown",
   "id": "9d151123",
   "metadata": {},
   "source": [
    "## Modos admitidos en open()\n",
    "* \"r\" Leer - No crea el archivo si no existe / No borra contenido previo\n",
    "* \"w\" Escribir (sobrescribe) - Crea el archivo si no existe / Borra contenido previo\n",
    "* \"a\" Agregar (append) -  Crea el archivo si no existe / No borra contenido previo\n",
    "* \"r+\" Leer y escribir (sin borrar) - No crea el archivo si no existe / No borra contenido previo\n",
    "* \"w+ \" Leer y escribir (borrando el contenido) - Crea el archivo si no existe / Borra contenido previo\n",
    "* \"a+\" Leer y escribir (agregando al final) -  Crea el archivo si no existe / No borra contenido previo"
   ]
  },
  {
   "cell_type": "markdown",
   "id": "5b8a0107",
   "metadata": {},
   "source": [
    "## Manejo de rutas\n",
    "Si no se incluye ruta al archivo, se busca en la misma carpeta donde se encuentra el programa.\n",
    "<BR>\n",
    "En esta instrucción, la ruta es inválida: `file = open(\"data\\notas.txt\", \"r\")`, dado el salto de línea (\"\\n\") incluido en ella. Para evitar este error tenemos 3 posibilidades:\n",
    "* Usar doble barra invertida: La doble contrabarra es también una secuencia de escape que representa a una sola barra invertida:\n",
    "<BR>`file = open(\"data\\\\notas.txt\", \"r\")`\n",
    "* Usar una sola barra normal: \n",
    "<BR>\n",
    "`file = open(\"data/notas.txt\", \"r\")`\n",
    "* Declarar la cadena como cruda: es una cadena de texto en la que los caracteres de escape no se interpretan como caracteres especiales, sino que se tratan como caracteres literales:\n",
    "<BR>`file = open(r\"data\\notas.txt\", \"r\")`\n"
   ]
  },
  {
   "cell_type": "code",
   "execution_count": 52,
   "id": "5683e6b9",
   "metadata": {},
   "outputs": [
    {
     "name": "stdout",
     "output_type": "stream",
     "text": [
      "\n"
     ]
    }
   ],
   "source": [
    "# Abrir el archivo data/notas.txt\n",
    "file = open(r\"data\\notas.txt\", \"r\")\n",
    "contenido = file.read()\n",
    "print(contenido)"
   ]
  },
  {
   "cell_type": "markdown",
   "id": "4ec254ca",
   "metadata": {},
   "source": [
    "# Cierre de archivos"
   ]
  },
  {
   "cell_type": "markdown",
   "id": "a94a8e75",
   "metadata": {},
   "source": [
    "Veamos porque es una buena práctica cerrar los archivos luego de acceder a ellos\n",
    "<BR>\n",
    "Cuando abrís un archivo, usas recursos del sistema, el OS reserva:\n",
    "* Un descriptor de archivo (file handle)\n",
    "* Un bloque de memoria para el buffer de lectura/escritura\n",
    "* Y un enlace activo entre tu programa y el archivo físico en disco.\n",
    "\n",
    "Si no lo cerrás, esos recursos quedan ocupados hasta que el programa termina — o hasta que el recolector de basura los libere (lo que no siempre pasa enseguida).\n",
    "<BR>\n",
    "Si no cerramos el archivo, podrían darse las siguientes situaciones:\n",
    "* Bloqueo de archivos: En algunos sistemas (Windows especialmente), el archivo queda bloqueado: no podés borrarlo o abrirlo desde otro programa.\n",
    "* Memory Leak: Si abrís muchos archivos sin cerrar, el programa usa más memoria y puede quedarse sin descriptores.\n",
    "* Datos no guardados: En modo escritura (\"w\" o \"a\"), el contenido se guarda primero en un buffer. Si no se cierra el archivo, puede que el buffer nunca se vacíe y los datos no se escriban en disco.\n",
    "* Comportamientos impredecibles: Algunas funciones que esperan que el archivo esté cerrado (como os.remove() o shutil.move()) pueden fallar.\n",
    "\n",
    "Para cerrar el archivo usamos el método `close`\n",
    "<BR>\n",
    "* Vacía los buffers (garantizando que todo lo que escribiste se guarde).\n",
    "* Libera el descriptor de archivo.\n",
    "* Rompe el vínculo entre el archivo y tu programa.\n"
   ]
  },
  {
   "cell_type": "code",
   "execution_count": 55,
   "id": "8bbfb309",
   "metadata": {},
   "outputs": [
    {
     "name": "stdout",
     "output_type": "stream",
     "text": [
      "\n"
     ]
    }
   ],
   "source": [
    "# Abrir el archivo data/notas.txt\n",
    "file = open(r\"data\\notas.txt\", \"r\")\n",
    "contenido = file.read()\n",
    "print(contenido)\n",
    "\n",
    "# Cerrar el archivo data/notas.txt\n",
    "file.close()\n"
   ]
  },
  {
   "cell_type": "markdown",
   "id": "1180ea08",
   "metadata": {},
   "source": [
    "# Manejo de excepciones con archivos"
   ]
  },
  {
   "cell_type": "markdown",
   "id": "b4b85a33",
   "metadata": {},
   "source": [
    "Si Python no puede abrir o cerrar el archivo, o algunas de las operaciones sobre el archivo no pueden realizarse se generarán excepciones que interrumpen el flujo normal del programa. Veamos como aplicar el bloque try/except/finally para manejar futuros errores."
   ]
  },
  {
   "cell_type": "code",
   "execution_count": null,
   "id": "4cee04bb",
   "metadata": {},
   "outputs": [],
   "source": [
    "# Mejoramos la apertura y el cierre del archivo con try/except/finally\n",
    "try:\n",
    "    file = open(\"data/notas.txt\", \"r\")\n",
    "    contenido = file.read()\n",
    "    print(contenido)\n",
    "except Exception as e:\n",
    "    print(f\"Error: {e}\")\n",
    "finally:\n",
    "    file.close()"
   ]
  },
  {
   "cell_type": "markdown",
   "id": "cba6c566",
   "metadata": {},
   "source": [
    "Si bien poner la instrucción file.close() en el finallly es lo mas razonable, ya que es una acción que siempre debe realizarse, en caso que el archivo no pueda abrirse, la acción file.close() generará una exception. Analicemos algunas maneras de evitarlo:"
   ]
  },
  {
   "cell_type": "code",
   "execution_count": 24,
   "id": "3358e5b6",
   "metadata": {},
   "outputs": [
    {
     "name": "stdout",
     "output_type": "stream",
     "text": [
      "Error Try: [Errno 2] No such file or directory: 'clase_11\\\\data\\\\notas.txt'\n"
     ]
    }
   ],
   "source": [
    "file = None  # inicializamos la variable\n",
    "\n",
    "try:\n",
    "    file = open(r\"clase_11\\data\\notas.txt\", \"r\", encoding=\"utf-8\")\n",
    "    contenido = file.read()\n",
    "    print(contenido)\n",
    "except Exception as e:\n",
    "    print(f\"Error Try: {e}\")\n",
    "finally:\n",
    "    if file is not None:\n",
    "        file.close()\n"
   ]
  },
  {
   "cell_type": "code",
   "execution_count": null,
   "id": "e518ee2f",
   "metadata": {},
   "outputs": [],
   "source": [
    "# O podemos incluso envolver file.close() en un bloque try/except\n",
    "try:\n",
    "    file = open(r\"clase_11\\data\\notas.txt\", \"r\")\n",
    "    contenido = file.read()\n",
    "    print(contenido)\n",
    "except Exception as e:\n",
    "    print(f\"Error Try: {e}\")\n",
    "finally:\n",
    "    try:\n",
    "        file.close()\n",
    "    except Exception as e:\n",
    "        print(f\"Error Finally: {e}\")"
   ]
  },
  {
   "cell_type": "markdown",
   "id": "b032e916",
   "metadata": {},
   "source": [
    "# Introducción a `with`"
   ]
  },
  {
   "cell_type": "markdown",
   "id": "541d06c0",
   "metadata": {},
   "source": [
    "Si ocurre un error entre el open() y el close(), por ejemplo un ValueError, el close() nunca se ejecuta y el archivo queda abierto en memoria.\n",
    "Aunque podemos usar try / finally para forzar el cierre, vimos que este patrón funciona, pero es largo, repetitivo y propenso a errores si se olvida el finally."
   ]
  },
  {
   "cell_type": "markdown",
   "id": "6387f85f",
   "metadata": {},
   "source": [
    "## Sintaxis de `with`"
   ]
  },
  {
   "cell_type": "code",
   "execution_count": 56,
   "id": "7ebee149",
   "metadata": {},
   "outputs": [
    {
     "name": "stdout",
     "output_type": "stream",
     "text": [
      "\n"
     ]
    }
   ],
   "source": [
    "with open(\"data/notas.txt\", \"r\", encoding=\"utf-8\") as file:\n",
    "    contenido = file.read()\n",
    "    print(contenido)"
   ]
  },
  {
   "cell_type": "markdown",
   "id": "3f243c06",
   "metadata": {},
   "source": [
    "¿Qué hace Python internamente?\n",
    "\n",
    "* Llama a open(\"data/notas.txt, \"r\") y guarda el archivo en la variable file\n",
    "* Ejecuta el bloque indentado (las líneas dentro del with)\n",
    "* Cuando el bloque termina — ya sea con éxito o por un error — llama automáticamente a file.close()"
   ]
  },
  {
   "cell_type": "markdown",
   "id": "cde88acf",
   "metadata": {},
   "source": [
    "# Escritura de archvios"
   ]
  },
  {
   "cell_type": "code",
   "execution_count": null,
   "id": "30711cf1",
   "metadata": {},
   "outputs": [],
   "source": [
    "# Escritura de un archivo\n",
    "try:\n",
    "    with open(\"data/notas.txt\", \"w\") as file:\n",
    "        file.write(\"Alumno: Juan\\n\")\n",
    "        file.write(\"Nota: 9\\n\")\n",
    "except Exception as e:\n",
    "    print(e)\n",
    "\n",
    "    "
   ]
  },
  {
   "cell_type": "code",
   "execution_count": 60,
   "id": "8b7dfa4b",
   "metadata": {},
   "outputs": [
    {
     "name": "stdout",
     "output_type": "stream",
     "text": [
      "Alumno: Juan\n",
      "Nota: 9\n",
      "\n"
     ]
    }
   ],
   "source": [
    "# Escritura de un archivo\n",
    "try:\n",
    "    with open(\"data/notas.txt\", \"r\") as file:\n",
    "        contenido = file.read()\n",
    "        print(contenido)\n",
    "except Exception as e:\n",
    "    print(e)\n",
    "\n",
    "    "
   ]
  },
  {
   "cell_type": "markdown",
   "id": "01adb97c",
   "metadata": {},
   "source": [
    "## Caso 1 - Lista de listas"
   ]
  },
  {
   "cell_type": "code",
   "execution_count": 83,
   "id": "1a611be0",
   "metadata": {},
   "outputs": [],
   "source": [
    "# Proponemos la siguiente lista de listas\n",
    "estudiantes = [\n",
    "    [1, \"Thiago\", \"Almada\", 19],\n",
    "    [2, \"Agostina\", \"Hein\", 25],\n",
    "    [3, \"Leandro\", \"Bolmaro\", 22],\n",
    "    [4, \"Valentina\", \"Raposo\", 24],\n",
    "]\n",
    "\n",
    "header = [\"id\", \"nombre\", \"apellido\"]"
   ]
  },
  {
   "cell_type": "markdown",
   "id": "409e018c",
   "metadata": {},
   "source": [
    "### Usando formato txt"
   ]
  },
  {
   "cell_type": "code",
   "execution_count": 91,
   "id": "8639d80a",
   "metadata": {},
   "outputs": [],
   "source": [
    "# Escribimos la lista de estudiantes en el archivo txt_estudiantes.txt\n",
    "with open(\"data/txt_estudiantes.txt\", \"w\", encoding=\"utf-8\") as file:\n",
    "    for e in estudiantes:\n",
    "        # file.write(str(e))\n",
    "        file.write(f\"{e[0]}, {e[1]}, {e[2]}, {e[3]}\\n\")\n",
    "\n"
   ]
  },
  {
   "cell_type": "code",
   "execution_count": 92,
   "id": "ed2386db",
   "metadata": {},
   "outputs": [
    {
     "name": "stdout",
     "output_type": "stream",
     "text": [
      "1, Thiago, Almada, 19\n",
      "2, Agostina, Hein, 25\n",
      "3, Leandro, Bolmaro, 22\n",
      "4, Valentina, Raposo, 24\n",
      "\n"
     ]
    }
   ],
   "source": [
    "# Leemos y mostramos el contenido\n",
    "with open(\"data/txt_estudiantes.txt\", \"r\", encoding=\"utf-8\") as file:\n",
    "    contenido = file.read()\n",
    "    print(contenido)"
   ]
  },
  {
   "cell_type": "markdown",
   "id": "27111edc",
   "metadata": {},
   "source": [
    "Ventajas:\n",
    "* Simple de crear y leer manualmente.\n",
    "* Ideal para texto sin estructura compleja.\n",
    "<BR>\n",
    "\n",
    "Desventajas:\n",
    "* No tiene encabezados.\n",
    "* No hay estructura formal (cada línea hay que “parsearla” al leerla)."
   ]
  },
  {
   "cell_type": "markdown",
   "id": "65764110",
   "metadata": {},
   "source": [
    "### Usando formato csv"
   ]
  },
  {
   "cell_type": "code",
   "execution_count": 93,
   "id": "a662a9be",
   "metadata": {},
   "outputs": [],
   "source": [
    "import csv\n",
    "\n",
    "with open(\"data/csv_estudiantes.csv\", \"w\", newline=\"\", encoding=\"utf-8\") as file:\n",
    "    writer = csv.writer(file)\n",
    "    writer.writerow(header)  # encabezado\n",
    "    writer.writerows(estudiantes)\n"
   ]
  },
  {
   "cell_type": "code",
   "execution_count": 99,
   "id": "5f9e9e23",
   "metadata": {},
   "outputs": [
    {
     "name": "stdout",
     "output_type": "stream",
     "text": [
      "['id', 'nombre', 'apellido']\n",
      "['1', 'Thiago', 'Almada', '19']\n",
      "['2', 'Agostina', 'Hein', '25']\n",
      "['3', 'Leandro', 'Bolmaro', '22']\n",
      "['4', 'Valentina', 'Raposo', '24']\n"
     ]
    }
   ],
   "source": [
    "# Leemos y mostramos el contenido\n",
    "with open(\"data/csv_estudiantes.csv\", \"r\", encoding=\"utf-8\") as file:\n",
    "    contenido = csv.reader(file)\n",
    "    for fila in contenido:\n",
    "        print(fila)"
   ]
  },
  {
   "cell_type": "markdown",
   "id": "1b1140af",
   "metadata": {},
   "source": [
    "Ventajas:\n",
    "* Formato estándar e intercambiable (Excel, Google Sheets, Pandas).\n",
    "* Fácil de leer y escribir con el módulo csv.\n",
    "* Ideal para listas de listas.\n",
    "\n",
    "<BR>\n",
    "Desventajas:\n",
    "* Solo almacena texto (no tipos complejos como listas anidadas o diccionarios)."
   ]
  },
  {
   "cell_type": "markdown",
   "id": "931b6747",
   "metadata": {},
   "source": [
    "## Caso 2 - Lista de diccionarios"
   ]
  },
  {
   "cell_type": "code",
   "execution_count": 96,
   "id": "ed1c6546",
   "metadata": {},
   "outputs": [],
   "source": [
    "estudiantes = [\n",
    "    {\"id\": 1, \"nombre\": \"Thiago\", \"apellido\": \"Almada\"},\n",
    "    {\"id\": 2, \"nombre\": \"Agostina\", \"apellido\": \"Hein\"},\n",
    "    {\"id\": 3, \"nombre\": \"Leandro\", \"apellido\": \"Bolmaro\"},\n",
    "    {\"id\": 4, \"nombre\": \"Valentina\", \"apellido\": \"Raposo\"},\n",
    "]"
   ]
  },
  {
   "cell_type": "markdown",
   "id": "985aeb5b",
   "metadata": {},
   "source": [
    "### Usando formato json"
   ]
  },
  {
   "cell_type": "code",
   "execution_count": 101,
   "id": "69d71b61",
   "metadata": {},
   "outputs": [],
   "source": [
    "import json\n",
    "\n",
    "# Crear y escribir el archivo JSON\n",
    "with open(\"data/estudiantes.json\", \"w\", encoding=\"utf-8\") as f:\n",
    "    json.dump(estudiantes, f, indent=4, ensure_ascii=False)"
   ]
  },
  {
   "cell_type": "code",
   "execution_count": 102,
   "id": "9ac0cc73",
   "metadata": {},
   "outputs": [
    {
     "name": "stdout",
     "output_type": "stream",
     "text": [
      "{'id': 1, 'nombre': 'Thiago', 'apellido': 'Almada'}\n",
      "{'id': 2, 'nombre': 'Agostina', 'apellido': 'Hein'}\n",
      "{'id': 3, 'nombre': 'Leandro', 'apellido': 'Bolmaro'}\n",
      "{'id': 4, 'nombre': 'Valentina', 'apellido': 'Raposo'}\n"
     ]
    }
   ],
   "source": [
    "import json\n",
    "\n",
    "# Abrir y leer el archivo JSON\n",
    "with open(\"data/estudiantes.json\", \"r\", encoding=\"utf-8\") as f:\n",
    "    datos = json.load(f)\n",
    "    for e in datos:    \n",
    "        print(e)"
   ]
  }
 ],
 "metadata": {
  "kernelspec": {
   "display_name": "Python 3",
   "language": "python",
   "name": "python3"
  },
  "language_info": {
   "codemirror_mode": {
    "name": "ipython",
    "version": 3
   },
   "file_extension": ".py",
   "mimetype": "text/x-python",
   "name": "python",
   "nbconvert_exporter": "python",
   "pygments_lexer": "ipython3",
   "version": "3.12.7"
  }
 },
 "nbformat": 4,
 "nbformat_minor": 5
}
